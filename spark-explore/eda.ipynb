{
 "cells": [
  {
   "cell_type": "code",
   "execution_count": 2,
   "metadata": {},
   "outputs": [],
   "source": [
    "import pandas as pd\n",
    "import numpy as np \n",
    "import matplotlib.pyplot as plt\n",
    "from pyspark.sql import SparkSession\n",
    "from pyspark.sql.functions import col, from_json, decode"
   ]
  },
  {
   "cell_type": "code",
   "execution_count": 3,
   "metadata": {},
   "outputs": [],
   "source": [
    "spark = SparkSession.builder \\\n",
    "    .appName(\"first_app\") \\\n",
    "    .config(\"spark.jars.packages\", \"org.apache.spark:spark-sql-kafka-0-10_2.12:3.3.0\") \\\n",
    "    .getOrCreate()"
   ]
  },
  {
   "cell_type": "code",
   "execution_count": 4,
   "metadata": {},
   "outputs": [],
   "source": [
    "df = spark \\\n",
    "  .read \\\n",
    "  .format(\"kafka\") \\\n",
    "  .option(\"kafka.bootstrap.servers\", \"44.201.154.178:9092\") \\\n",
    "  .option(\"subscribe\", \"health_events\") \\\n",
    "  .option(\"startingOffsets\", \"earliest\") \\\n",
    "  .load()\n",
    "\n",
    "df = df.withColumn(\"decoded_value\", decode(col(\"value\"), \"UTF-8\"))"
   ]
  },
  {
   "cell_type": "code",
   "execution_count": 5,
   "metadata": {},
   "outputs": [
    {
     "name": "stdout",
     "output_type": "stream",
     "text": [
      "root\n",
      " |-- key: binary (nullable = true)\n",
      " |-- value: binary (nullable = true)\n",
      " |-- topic: string (nullable = true)\n",
      " |-- partition: integer (nullable = true)\n",
      " |-- offset: long (nullable = true)\n",
      " |-- timestamp: timestamp (nullable = true)\n",
      " |-- timestampType: integer (nullable = true)\n",
      " |-- decoded_value: string (nullable = true)\n",
      "\n"
     ]
    }
   ],
   "source": [
    "df.printSchema()"
   ]
  },
  {
   "cell_type": "code",
   "execution_count": 6,
   "metadata": {},
   "outputs": [],
   "source": [
    "from pyspark.sql.types import StructType, StructField, StringType, TimestampType, IntegerType\n",
    "json_schema = StructType([\n",
    "    StructField(\"EventType\", StringType(), True),   # Assuming EventType is a string that can be nullable\n",
    "    StructField(\"TimeStamp\", TimestampType(), True),  # Assuming TimeStamp is a datetime, nullable\n",
    "    StructField(\"Location\", StringType(), True),    # Assuming Location is a string that can be nullable\n",
    "    StructField(\"Severity\", IntegerType(), True),   # Assuming Severity is an integer, nullable\n",
    "    StructField(\"Details\", StringType(), True)      # Assuming Details is a string that can be nullable\n",
    "])\n"
   ]
  },
  {
   "cell_type": "code",
   "execution_count": 7,
   "metadata": {},
   "outputs": [],
   "source": [
    "\n",
    "parsed_df = df.select(\n",
    "    col(\"key\").cast(\"string\"),\n",
    "    from_json(decode(col(\"value\"), \"UTF-8\"), json_schema).alias(\"data\"),\n",
    "    \"topic\",\n",
    "    \"partition\",\n",
    "    \"offset\",\n",
    "    \"timestamp\",\n",
    "    \"timestampType\"\n",
    ")"
   ]
  },
  {
   "cell_type": "code",
   "execution_count": 8,
   "metadata": {},
   "outputs": [],
   "source": [
    "from pyspark.sql.functions import col, from_json\n",
    "\n",
    "parsed_df = df.select(\n",
    "    col(\"key\").cast(\"string\"),\n",
    "    from_json(col(\"decoded_value\").cast(\"string\"), json_schema).alias(\"data\"),\n",
    "    \"topic\",\n",
    "    \"partition\",\n",
    "    \"offset\",\n",
    "    \"timestamp\",\n",
    "    \"timestampType\"\n",
    ")\n"
   ]
  },
  {
   "cell_type": "code",
   "execution_count": 9,
   "metadata": {},
   "outputs": [
    {
     "name": "stdout",
     "output_type": "stream",
     "text": [
      "+----+---------------------+---------+-----------+--------+------------------------------------------------+-------------+---------+------+-----------------------+-------------+\n",
      "|key |EventType            |TimeStamp|Location   |Severity|Details                                         |topic        |partition|offset|timestamp              |timestampType|\n",
      "+----+---------------------+---------+-----------+--------+------------------------------------------------+-------------+---------+------+-----------------------+-------------+\n",
      "|null|emergency_incident   |null     |Paris      |null    |This is a simulated emergency_incident event.   |health_events|0        |52360 |2024-04-10 02:14:41.884|0            |\n",
      "|null|emergency_incident   |null     |London     |null    |This is a simulated emergency_incident event.   |health_events|0        |52361 |2024-04-10 02:14:47.884|0            |\n",
      "|null|routine_checkup      |null     |Berlin     |null    |This is a simulated routine_checkup event.      |health_events|0        |52362 |2024-04-10 02:15:03.885|0            |\n",
      "|null|routine_checkup      |null     |Berlin     |null    |This is a simulated routine_checkup event.      |health_events|0        |52363 |2024-04-10 02:15:12.885|0            |\n",
      "|null|general_health_report|null     |Los Angeles|null    |This is a simulated general_health_report event.|health_events|0        |52364 |2024-04-10 02:15:23.886|0            |\n",
      "|null|emergency_incident   |null     |New York   |null    |This is a simulated emergency_incident event.   |health_events|0        |52365 |2024-04-10 02:15:38.886|0            |\n",
      "|null|emergency_incident   |null     |London     |null    |This is a simulated emergency_incident event.   |health_events|0        |52366 |2024-04-10 02:15:47.886|0            |\n",
      "|null|hospital_admission   |null     |Boston     |null    |This is a simulated hospital_admission event.   |health_events|0        |52367 |2024-04-10 02:16:06.887|0            |\n",
      "|null|general_health_report|null     |Paris      |null    |This is a simulated general_health_report event.|health_events|0        |52368 |2024-04-10 02:16:23.887|0            |\n",
      "|null|vaccination          |null     |New York   |null    |This is a simulated vaccination event.          |health_events|0        |52369 |2024-04-10 02:16:42.888|0            |\n",
      "|null|hospital_admission   |null     |Berlin     |null    |This is a simulated hospital_admission event.   |health_events|0        |52370 |2024-04-10 02:16:59.888|0            |\n",
      "|null|emergency_incident   |null     |London     |null    |This is a simulated emergency_incident event.   |health_events|0        |52371 |2024-04-10 02:17:08.888|0            |\n",
      "|null|health_mention       |null     |Los Angeles|null    |This is a simulated health_mention event.       |health_events|0        |52372 |2024-04-10 02:17:11.889|0            |\n",
      "|null|hospital_admission   |null     |Paris      |null    |This is a simulated hospital_admission event.   |health_events|0        |52373 |2024-04-10 02:17:28.889|0            |\n",
      "|null|health_mention       |null     |Boston     |null    |This is a simulated health_mention event.       |health_events|0        |52374 |2024-04-10 02:17:43.889|0            |\n",
      "|null|vaccination          |null     |New York   |null    |This is a simulated vaccination event.          |health_events|0        |52375 |2024-04-10 02:17:54.89 |0            |\n",
      "|null|hospital_admission   |null     |London     |null    |This is a simulated hospital_admission event.   |health_events|0        |52376 |2024-04-10 02:18:10.89 |0            |\n",
      "|null|emergency_incident   |null     |Los Angeles|null    |This is a simulated emergency_incident event.   |health_events|0        |52377 |2024-04-10 02:18:18.891|0            |\n",
      "|null|health_mention       |null     |Paris      |null    |This is a simulated health_mention event.       |health_events|0        |52378 |2024-04-10 02:18:23.891|0            |\n",
      "|null|hospital_admission   |null     |Los Angeles|null    |This is a simulated hospital_admission event.   |health_events|0        |52379 |2024-04-10 02:18:37.891|0            |\n",
      "+----+---------------------+---------+-----------+--------+------------------------------------------------+-------------+---------+------+-----------------------+-------------+\n",
      "only showing top 20 rows\n",
      "\n"
     ]
    }
   ],
   "source": [
    "exploded_df = parsed_df.select(\n",
    "    \"key\",\n",
    "    \"data.EventType\",\n",
    "    \"data.TimeStamp\",\n",
    "    \"data.Location\",\n",
    "    \"data.Severity\",\n",
    "    \"data.Details\",\n",
    "    \"topic\",\n",
    "    \"partition\",\n",
    "    \"offset\",\n",
    "    \"timestamp\",\n",
    "    \"timestampType\"\n",
    ")\n",
    "exploded_df.show(truncate=False)"
   ]
  },
  {
   "cell_type": "code",
   "execution_count": 10,
   "metadata": {},
   "outputs": [
    {
     "name": "stderr",
     "output_type": "stream",
     "text": [
      "/usr/local/spark/python/pyspark/sql/pandas/conversion.py:248: FutureWarning: Passing unit-less datetime64 dtype to .astype is deprecated and will raise in a future version. Pass 'datetime64[ns]' instead\n",
      "  series = series.astype(t, copy=False)\n"
     ]
    }
   ],
   "source": [
    "pandas_df = exploded_df.toPandas()"
   ]
  },
  {
   "cell_type": "code",
   "execution_count": 12,
   "metadata": {},
   "outputs": [],
   "source": [
    "pandas_df = pandas_df.drop_duplicates()"
   ]
  },
  {
   "cell_type": "code",
   "execution_count": null,
   "metadata": {},
   "outputs": [],
   "source": []
  },
  {
   "cell_type": "code",
   "execution_count": null,
   "metadata": {},
   "outputs": [],
   "source": []
  },
  {
   "cell_type": "code",
   "execution_count": null,
   "metadata": {},
   "outputs": [],
   "source": []
  },
  {
   "cell_type": "code",
   "execution_count": null,
   "metadata": {},
   "outputs": [],
   "source": []
  }
 ],
 "metadata": {
  "kernelspec": {
   "display_name": "Python 3 (ipykernel)",
   "language": "python",
   "name": "python3"
  },
  "language_info": {
   "codemirror_mode": {
    "name": "ipython",
    "version": 3
   },
   "file_extension": ".py",
   "mimetype": "text/x-python",
   "name": "python",
   "nbconvert_exporter": "python",
   "pygments_lexer": "ipython3",
   "version": "3.10.6"
  }
 },
 "nbformat": 4,
 "nbformat_minor": 2
}
